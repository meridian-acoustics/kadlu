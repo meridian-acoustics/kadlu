{
 "cells": [
  {
   "cell_type": "markdown",
   "metadata": {},
   "source": [
    "# Geophony"
   ]
  },
  {
   "cell_type": "markdown",
   "metadata": {},
   "source": [
    "In this tutorial, we will use Kadlu to estimate the ambient noise levels in a realistic ocean environment. More specifically, we will estimate the noise levels due to surface agitation (waves) in The Gully, an underwater canyon located 200 km off the coast of Nova Scotia at the rim of the continental shelf."
   ]
  },
  {
   "cell_type": "markdown",
   "metadata": {},
   "source": [
    "### Background info about The Gully\n",
    "\"The Gully is located approximately 200 kilometres off Nova Scotia to the east of Sable Island on the edge of the Scotian Shelf. Over 65 kilometres long and 15 kilometres wide, the Gully is the largest underwater canyon in the western North Atlantic. The movement of glaciers and meltwater erosion formed the canyon approximately 150,000 to 450,000 years ago, when much of the continental shelf was above the current sea level.\n",
    "\n",
    "The Gully ecosystem encompasses shallow sandy banks, a deep-water canyon environment, and portions of the continental slope and abyssal plain, providing habitat for a wide diversity of species. The Gully’s size, shape, and location have an effect on currents and local circulation patterns, concentrating nutrients and small organisms within the canyon.\n",
    "\n",
    "The Gully is home to the endangered Scotian Shelf population of Northern bottlenose whales and is an important habitat for 15 other species of whales and dolphins. Tiny plankton, a variety of fish such as sharks, tunas and swordfish, and seabirds inhabit surface waters, while halibut, skates, cusk and lanternfish can be found as deep as one kilometre. The ocean floor supports crabs, sea pens, anemones, brittle stars, and approximately 30 species of cold-water.\"\n",
    "\n",
    "(Source: www.dfo-mpo.gc.ca)"
   ]
  },
  {
   "cell_type": "markdown",
   "metadata": {},
   "source": [
    "We begin by importing the necessary modules, functions, etc."
   ]
  },
  {
   "cell_type": "code",
   "execution_count": 1,
   "metadata": {},
   "outputs": [],
   "source": [
    "import kadlu\n",
    "\n",
    "import numpy as np\n",
    "from datetime import datetime\n",
    "import matplotlib.pyplot as plt\n",
    "#from kadlu.geospatial.ocean import Ocean\n",
    "#from kadlu.plot_util import plot2D\n",
    "#from kadlu.sound.geophony import geophony, kewley_sl_func"
   ]
  },
  {
   "cell_type": "markdown",
   "metadata": {},
   "source": [
    "## Fetch and load environmental data"
   ]
  },
  {
   "cell_type": "markdown",
   "metadata": {},
   "source": [
    "The geographical and temporal boundaries are specified as python dictionary, to be used later for fetching and loading the necessary environmental data. In this example, we are concerned with the area extending from $43.53^{\\circ}$N to $44.29^{\\circ}$N and $-59.84^{\\circ}$W to $-58.48^{\\circ}$W, on January 1, 2015."
   ]
  },
  {
   "cell_type": "code",
   "execution_count": 2,
   "metadata": {},
   "outputs": [],
   "source": [
    "# ocean boundaries\n",
    "bounds = dict(\n",
    "               south=43.53, north=44.29, west=-59.84, east=-58.48,\n",
    "               start=datetime(2015,1,1), end=datetime(2015,1,2), \n",
    "               top=0, bottom=10000\n",
    "             )"
   ]
  },
  {
   "cell_type": "markdown",
   "metadata": {},
   "source": [
    "We proceed to fetching and loading the environmental data. This is accomplished with the Ocean class, as shown below. We fetch bathymetry data from the Canadian Hydrographic Service (CHS), temperature/salinity data from the HYbrid Coordinate Ocean Model (HYCOM), and wind-speed and wave-height data from NOAA's Wavewatch III (WWIII)."
   ]
  },
  {
   "cell_type": "code",
   "execution_count": 4,
   "metadata": {},
   "outputs": [
    {
     "name": "stderr",
     "output_type": "stream",
     "text": [
      "WWIII hs  logged 1128392 points in region\t{\"bottom\": \"5000\", \"east\": 0.0, \"end\": \"2015-01-02 00:00:00\", \"north\": 90.0, \"south\": 0.0, \"start\": \"2015-01-01 00:00:00\", \"top\": \"0\", \"west\": -180.0}\n",
      "WWIII wind  logged 1209208 points in region\t{\"bottom\": \"5000\", \"east\": 0.0, \"end\": \"2015-01-02 00:00:00\", \"north\": 90.0, \"south\": 0.0, \"start\": \"2015-01-01 00:00:00\", \"top\": \"0\", \"west\": -180.0}\n",
      "WWIII wind  logged 0 points in region\t{\"bottom\": \"10000\", \"east\": 0.0, \"end\": \"2015-01-02 00:00:00\", \"north\": 90.0, \"south\": 0.0, \"start\": \"2015-01-01 00:00:00\", \"top\": \"5000\", \"west\": -180.0}\n",
      "loading data from The GEBCO_2020 Grid - a continuous terrain model for oceans and land at 15 arc-second intervals\n",
      "GEBCO bathymetry  logged 0 points in region\t{\"east\": -58.0, \"north\": 44.0, \"south\": 42.0, \"west\": -60.0}\n",
      "loading data from The GEBCO_2020 Grid - a continuous terrain model for oceans and land at 15 arc-second intervals\n",
      "GEBCO bathymetry  logged 0 points in region\t{\"east\": -58.0, \"north\": 46.0, \"south\": 44.0, \"west\": -60.0}\n"
     ]
    }
   ],
   "source": [
    "# data sources\n",
    "data_sources = dict(load_bathymetry='gebco', \n",
    "                    load_temp='hycom', \n",
    "                    load_salinity='hycom', \n",
    "                    load_wind_uv='wwiii', \n",
    "                    load_waveheight='wwiii')\n",
    "\n",
    "# initialize Ocean instance\n",
    "gully = kadlu.Ocean(**bounds, **data_sources)"
   ]
  },
  {
   "cell_type": "markdown",
   "metadata": {},
   "source": [
    "We can use Kadlu's plot2D method to display the bathymetry (i.e. seafloor depth) in the selection region:"
   ]
  },
  {
   "cell_type": "code",
   "execution_count": 5,
   "metadata": {},
   "outputs": [
    {
     "ename": "AttributeError",
     "evalue": "module 'kadlu' has no attribute 'plot2D'",
     "output_type": "error",
     "traceback": [
      "\u001b[0;31m---------------------------------------------------------------------------\u001b[0m",
      "\u001b[0;31mAttributeError\u001b[0m                            Traceback (most recent call last)",
      "\u001b[0;32m<ipython-input-5-a4012ddf13bf>\u001b[0m in \u001b[0;36m<module>\u001b[0;34m()\u001b[0m\n\u001b[0;32m----> 1\u001b[0;31m \u001b[0mkadlu\u001b[0m\u001b[0;34m.\u001b[0m\u001b[0mplot2D\u001b[0m\u001b[0;34m(\u001b[0m\u001b[0mvar\u001b[0m\u001b[0;34m=\u001b[0m\u001b[0;34m'bathymetry'\u001b[0m\u001b[0;34m,\u001b[0m \u001b[0msource\u001b[0m\u001b[0;34m=\u001b[0m\u001b[0;34m'gebco'\u001b[0m\u001b[0;34m,\u001b[0m \u001b[0;34m**\u001b[0m\u001b[0mbounds\u001b[0m\u001b[0;34m)\u001b[0m\u001b[0;34m\u001b[0m\u001b[0;34m\u001b[0m\u001b[0m\n\u001b[0m",
      "\u001b[0;31mAttributeError\u001b[0m: module 'kadlu' has no attribute 'plot2D'"
     ]
    }
   ],
   "source": [
    "kadlu.plot2D(var='bathymetry', source='gebco', **bounds)"
   ]
  },
  {
   "cell_type": "markdown",
   "metadata": {},
   "source": [
    "The transition from the light (shallow) to dark (deep) colors demarks the edge of the continental shelf. The Gully is seen running north south in the right side of the figure, while the eastern tip of Sable Island is visible near the left edge of the figure. "
   ]
  },
  {
   "cell_type": "markdown",
   "metadata": {},
   "source": [
    "WWIII provides windspeeds and waveheights with a resolution of only 0.5 degrees, so the data only have three distinct values in the domain we are considering here. We can visualize the data, as follows"
   ]
  },
  {
   "cell_type": "code",
   "execution_count": 6,
   "metadata": {},
   "outputs": [
    {
     "data": {
      "image/png": "[encoded data removed]",
      "text/plain": [
       "<Figure size 432x288 with 2 Axes>"
      ]
     },
     "metadata": {},
     "output_type": "display_data"
    },
    {
     "data": {
      "image/png": "[encoded data removed]",
      "text/plain": [
       "<Figure size 432x288 with 2 Axes>"
      ]
     },
     "metadata": {},
     "output_type": "display_data"
    }
   ],
   "source": [
    "#plot2D(var='waveheight', source='wwiii', plot_wind='wwiii', **bounds)\n",
    "\n",
    "x = np.linspace(-58.48, -59.84, 100)\n",
    "y = np.linspace(43.53, 44.29, 100)\n",
    "ws = gully.wind_uv(lon=x,lat=y,grid=True)\n",
    "wh = gully.waveheight(lon=x,lat=y,grid=True)\n",
    "x, y = np.meshgrid(x, y)\n",
    "# plot windspeed\n",
    "plt.contourf(x,y,ws)\n",
    "plt.xlabel('Longitude (deg)')\n",
    "plt.xlabel('Latitude (deg)')\n",
    "plt.colorbar(format='%2.0f m/s')\n",
    "plt.show()\n",
    "# plot waveheight\n",
    "plt.contourf(x,y,wh)\n",
    "plt.xlabel('Longitude (deg)')\n",
    "plt.xlabel('Latitude (deg)')\n",
    "plt.colorbar(format='%2.0f m')\n",
    "plt.show()"
   ]
  },
  {
   "cell_type": "markdown",
   "metadata": {},
   "source": [
    "## Source levels"
   ]
  },
  {
   "cell_type": "markdown",
   "metadata": {},
   "source": [
    "The literature contains several parameterisations of the noise created by agitation of the sea surface. At present, the only parameterisation implemented in Kadlu is that of Kewley et al. (1990), which expresses the source level per surface area as a function of frequency and wind speed. For further details, see p. 114 Ocean Ambient Noise by Carey and Evans. However, you can easily implement your own parameterisations and use them with Kadlu, as we will demonstrate below."
   ]
  },
  {
   "cell_type": "markdown",
   "metadata": {},
   "source": [
    "Let us a take a moment to visualize the parameterisation of Kewley et al. for a few different frequencies,"
   ]
  },
  {
   "cell_type": "code",
   "execution_count": 7,
   "metadata": {},
   "outputs": [
    {
     "data": {
      "image/png": "[encoded data removed]",
      "text/plain": [
       "<Figure size 432x288 with 1 Axes>"
      ]
     },
     "metadata": {},
     "output_type": "display_data"
    }
   ],
   "source": [
    "x = np.linspace(0,15,150)\n",
    "y100 = kadlu.kewley_sl_func(freq=100, wind_uv=x)\n",
    "y200 = kadlu.kewley_sl_func(freq=200, wind_uv=x)\n",
    "y600 = kadlu.kewley_sl_func(freq=600, wind_uv=x)\n",
    "plt.plot(x,y100, linestyle='-',  label='100 Hz')\n",
    "plt.plot(x,y200, linestyle='--', label='200 Hz')\n",
    "plt.plot(x,y600, linestyle='-.', label='600 Hz')\n",
    "plt.xlabel('Wind speed (m/s)')\n",
    "plt.ylabel('Source level (dB re 1$\\mu$Pa$^2$/Hz @ 1m /m$^2$)')\n",
    "plt.grid()\n",
    "plt.legend()\n",
    "plt.show()"
   ]
  },
  {
   "cell_type": "markdown",
   "metadata": {},
   "source": [
    "The source level is seen to increase with increasing wind speed, while also exhibiting some dependence on frequency below 10 m/s."
   ]
  },
  {
   "cell_type": "markdown",
   "metadata": {},
   "source": [
    "We can easily implement our own source level parameterisation. For example, "
   ]
  },
  {
   "cell_type": "code",
   "execution_count": 8,
   "metadata": {},
   "outputs": [],
   "source": [
    "def new_sl_func(**kwargs):\n",
    "    return 35.0 + 1.1 * kwargs['waveheight']"
   ]
  },
  {
   "cell_type": "markdown",
   "metadata": {},
   "source": [
    "## Seafloor lithology"
   ]
  },
  {
   "cell_type": "markdown",
   "metadata": {},
   "source": [
    "At present, Kadlu does not provide seafloor lithology data. Therefore, the acoustic properties of the seafloor must be specified manually. Here, we assume a sound speed of 1,700 m/s, a density of 1.5 g/cm$^3$ and an attenuation of 0.5 dB/$\\lambda$."
   ]
  },
  {
   "cell_type": "code",
   "execution_count": 9,
   "metadata": {},
   "outputs": [],
   "source": [
    "# specify bottom acoustic properties\n",
    "seafloor = {'sound_speed':1700,'density':1.5,'attenuation':0.5}"
   ]
  },
  {
   "cell_type": "markdown",
   "metadata": {},
   "source": [
    "## Calculate ambient noise levels"
   ]
  },
  {
   "cell_type": "markdown",
   "metadata": {},
   "source": [
    "We now will now use Kadlu's geophony function to compute the ambient noise levels at various locations in The Gully. "
   ]
  },
  {
   "cell_type": "markdown",
   "metadata": {},
   "source": [
    "For example, let us compute ambient noise level at 200 Hz at depths of 20 m and 300 m close to the center of the Gully (43.9$^{\\circ}$N, -58.9$^{\\circ}$W), using the source level parameterisation of Kewley et al. We will adopt a propagation range of 10 km, which means we are ignoring noise originating from a distance greater than 10 km."
   ]
  },
  {
   "cell_type": "code",
   "execution_count": 10,
   "metadata": {},
   "outputs": [
    {
     "name": "stderr",
     "output_type": "stream",
     "text": [
      "100%|██████████| 1333/1333 [00:55<00:00, 23.98it/s]\n"
     ]
    }
   ],
   "source": [
    "ambient_noise = kadlu.geophony(freq=200, depth=[30,300], lat=43.9, lon=-58.9, propagation_range=10,\n",
    "         data_range=50, sl_func=kadlu.kewley_sl_func, seafloor=seafloor, **data_sources, **bounds)"
   ]
  },
  {
   "cell_type": "markdown",
   "metadata": {},
   "source": [
    "The geophony function returns a Python dictionary with following keys,"
   ]
  },
  {
   "cell_type": "code",
   "execution_count": 11,
   "metadata": {},
   "outputs": [
    {
     "name": "stdout",
     "output_type": "stream",
     "text": [
      "dict_keys(['spl', 'lats', 'lons', 'x', 'y', 'z', 'bathy'])\n"
     ]
    }
   ],
   "source": [
    "print(ambient_noise.keys())"
   ]
  },
  {
   "cell_type": "markdown",
   "metadata": {},
   "source": [
    "We can inspect the sound-pressure levels (spl) and seafloor depth (bathy) as follows,"
   ]
  },
  {
   "cell_type": "code",
   "execution_count": 12,
   "metadata": {},
   "outputs": [
    {
     "name": "stdout",
     "output_type": "stream",
     "text": [
      "Sound pressure level:\n",
      " *  30 m:  66.6 dB re 1 uPa^2/Hz @ 1m\n",
      " * 300 m:  67.7 dB re 1 uPa^2/Hz @ 1m\n",
      "\n",
      "Seafloor depth: 613.3 m\n"
     ]
    }
   ],
   "source": [
    "spl = np.squeeze(ambient_noise['spl'])\n",
    "z = np.squeeze(ambient_noise['z'])\n",
    "depth = ambient_noise['bathy'][0]\n",
    "\n",
    "print('Sound pressure level:')\n",
    "print(' *  {0:.0f} m:  {1:.1f} dB re 1 uPa^2/Hz @ 1m'.format(z[0],spl[0]))\n",
    "print(' * {0:.0f} m:  {1:.1f} dB re 1 uPa^2/Hz @ 1m'.format(z[1],spl[1]))\n",
    "\n",
    "print('\\nSeafloor depth: {0:.1f} m'.format(depth))"
   ]
  },
  {
   "cell_type": "markdown",
   "metadata": {},
   "source": [
    "To use our own source level parameterisation instead of that of Kewley et al., we only have to modify the sl_func argument,"
   ]
  },
  {
   "cell_type": "code",
   "execution_count": 13,
   "metadata": {},
   "outputs": [
    {
     "name": "stderr",
     "output_type": "stream",
     "text": [
      "100%|██████████| 1333/1333 [00:56<00:00, 23.76it/s]"
     ]
    },
    {
     "name": "stdout",
     "output_type": "stream",
     "text": [
      "Sound pressure level:\n",
      " *  30 m:  53.2 dB re 1 uPa^2/Hz @ 1m\n",
      " * 300 m:  54.3 dB re 1 uPa^2/Hz @ 1m\n"
     ]
    },
    {
     "name": "stderr",
     "output_type": "stream",
     "text": [
      "\n"
     ]
    }
   ],
   "source": [
    "ambient_noise = kadlu.geophony(freq=200, depth=[30,300], lat=43.9, lon=-58.9, propagation_range=10,\n",
    "         data_range=50, sl_func=new_sl_func, seafloor=seafloor, **data_sources, **bounds)\n",
    "\n",
    "spl = np.squeeze(ambient_noise['spl'])\n",
    "z = np.squeeze(ambient_noise['z'])\n",
    "print('Sound pressure level:')\n",
    "print(' *  {0:.0f} m:  {1:.1f} dB re 1 uPa^2/Hz @ 1m'.format(z[0],spl[0]))\n",
    "print(' * {0:.0f} m:  {1:.1f} dB re 1 uPa^2/Hz @ 1m'.format(z[1],spl[1]))"
   ]
  },
  {
   "cell_type": "markdown",
   "metadata": {},
   "source": [
    "### Dependence on propagation range"
   ]
  },
  {
   "cell_type": "markdown",
   "metadata": {},
   "source": [
    "In the above calculations, we somewhat arbitrarily used a propagation range of 10 km. We will now investigate the impact of this choice on the results"
   ]
  },
  {
   "cell_type": "code",
   "execution_count": 14,
   "metadata": {},
   "outputs": [
    {
     "name": "stderr",
     "output_type": "stream",
     "text": [
      "100%|██████████| 17/17 [00:00<00:00, 94.66it/s]\n",
      "100%|██████████| 33/33 [00:00<00:00, 85.25it/s]\n",
      "100%|██████████| 67/67 [00:00<00:00, 95.48it/s]\n",
      "100%|██████████| 133/133 [00:01<00:00, 83.45it/s]\n",
      "100%|██████████| 267/267 [00:04<00:00, 58.86it/s]\n",
      "100%|██████████| 533/533 [00:12<00:00, 41.63it/s]\n",
      "100%|██████████| 1067/1067 [00:22<00:00, 48.02it/s]\n",
      "100%|██████████| 2133/2133 [01:13<00:00, 29.08it/s]\n",
      "100%|██████████| 3200/3200 [01:35<00:00, 33.50it/s]\n",
      "100%|██████████| 4267/4267 [03:00<00:00, 23.59it/s]\n",
      "100%|██████████| 5333/5333 [03:55<00:00, 22.64it/s]\n",
      "100%|██████████| 6400/6400 [04:43<00:00, 22.54it/s]\n",
      "loading data from The GEBCO_2020 Grid - a continuous terrain model for oceans and land at 15 arc-second intervals\n",
      "GEBCO bathymetry  logged 0 points in region\t{\"east\": -56.0, \"north\": 44.0, \"south\": 42.0, \"west\": -58.0}\n",
      "loading data from The GEBCO_2020 Grid - a continuous terrain model for oceans and land at 15 arc-second intervals\n",
      "GEBCO bathymetry  logged 0 points in region\t{\"east\": -56.0, \"north\": 44.0, \"south\": 42.0, \"west\": -58.0}\n",
      "loading data from The GEBCO_2020 Grid - a continuous terrain model for oceans and land at 15 arc-second intervals\n",
      "GEBCO bathymetry  logged 0 points in region\t{\"east\": -56.0, \"north\": 46.0, \"south\": 44.0, \"west\": -58.0}\n",
      "loading data from The GEBCO_2020 Grid - a continuous terrain model for oceans and land at 15 arc-second intervals\n",
      "GEBCO bathymetry  logged 0 points in region\t{\"east\": -56.0, \"north\": 46.0, \"south\": 44.0, \"west\": -58.0}\n",
      "HYCOM salinity  logged 195860 points in region\t{\"bottom\": \"5000\", \"east\": -56.0, \"end\": \"2015-01-02 00:00:00\", \"north\": 44.0, \"south\": 42.0, \"start\": \"2015-01-01 00:00:00\", \"top\": \"0\", \"west\": -58.0}\n",
      "HYCOM salinity  logged 0 points in region\t{\"bottom\": \"10000\", \"east\": -56.0, \"end\": \"2015-01-02 00:00:00\", \"north\": 44.0, \"south\": 42.0, \"start\": \"2015-01-01 00:00:00\", \"top\": \"5000\", \"west\": -58.0}\n",
      "HYCOM salinity: no data found, returning empty arrays for region\t{\"bottom\": \"10000\", \"east\": -56.0, \"end\": \"2015-01-02 00:00:00\", \"north\": 44.0, \"south\": 42.0, \"start\": \"2015-01-01 00:00:00\", \"top\": \"5000\", \"west\": -58.0}\n",
      "HYCOM salinity  logged 128432 points in region\t{\"bottom\": \"5000\", \"east\": -56.0, \"end\": \"2015-01-02 00:00:00\", \"north\": 46.0, \"south\": 44.0, \"start\": \"2015-01-01 00:00:00\", \"top\": \"0\", \"west\": -58.0}\n",
      "HYCOM salinity  logged 0 points in region\t{\"bottom\": \"10000\", \"east\": -56.0, \"end\": \"2015-01-02 00:00:00\", \"north\": 46.0, \"south\": 44.0, \"start\": \"2015-01-01 00:00:00\", \"top\": \"5000\", \"west\": -58.0}\n",
      "HYCOM salinity: no data found, returning empty arrays for region\t{\"bottom\": \"10000\", \"east\": -56.0, \"end\": \"2015-01-02 00:00:00\", \"north\": 46.0, \"south\": 44.0, \"start\": \"2015-01-01 00:00:00\", \"top\": \"5000\", \"west\": -58.0}\n",
      "HYCOM water_temp  logged 195860 points in region\t{\"bottom\": \"5000\", \"east\": -56.0, \"end\": \"2015-01-02 00:00:00\", \"north\": 44.0, \"south\": 42.0, \"start\": \"2015-01-01 00:00:00\", \"top\": \"0\", \"west\": -58.0}\n",
      "HYCOM water_temp  logged 0 points in region\t{\"bottom\": \"10000\", \"east\": -56.0, \"end\": \"2015-01-02 00:00:00\", \"north\": 44.0, \"south\": 42.0, \"start\": \"2015-01-01 00:00:00\", \"top\": \"5000\", \"west\": -58.0}\n",
      "HYCOM water_temp: no data found, returning empty arrays for region\t{\"bottom\": \"10000\", \"east\": -56.0, \"end\": \"2015-01-02 00:00:00\", \"north\": 44.0, \"south\": 42.0, \"start\": \"2015-01-01 00:00:00\", \"top\": \"5000\", \"west\": -58.0}\n",
      "HYCOM water_temp  logged 128432 points in region\t{\"bottom\": \"5000\", \"east\": -56.0, \"end\": \"2015-01-02 00:00:00\", \"north\": 46.0, \"south\": 44.0, \"start\": \"2015-01-01 00:00:00\", \"top\": \"0\", \"west\": -58.0}\n",
      "HYCOM water_temp  logged 0 points in region\t{\"bottom\": \"10000\", \"east\": -56.0, \"end\": \"2015-01-02 00:00:00\", \"north\": 46.0, \"south\": 44.0, \"start\": \"2015-01-01 00:00:00\", \"top\": \"5000\", \"west\": -58.0}\n",
      "HYCOM water_temp: no data found, returning empty arrays for region\t{\"bottom\": \"10000\", \"east\": -56.0, \"end\": \"2015-01-02 00:00:00\", \"north\": 46.0, \"south\": 44.0, \"start\": \"2015-01-01 00:00:00\", \"top\": \"5000\", \"west\": -58.0}\n",
      "loading data from The GEBCO_2020 Grid - a continuous terrain model for oceans and land at 15 arc-second intervals\n",
      "GEBCO bathymetry  logged 0 points in region\t{\"east\": -56.0, \"north\": 44.0, \"south\": 42.0, \"west\": -58.0}\n",
      "loading data from The GEBCO_2020 Grid - a continuous terrain model for oceans and land at 15 arc-second intervals\n",
      "GEBCO bathymetry  logged 0 points in region\t{\"east\": -56.0, \"north\": 46.0, \"south\": 44.0, \"west\": -58.0}\n",
      "100%|██████████| 8533/8533 [05:48<00:00, 24.49it/s]\n"
     ]
    }
   ],
   "source": [
    "ranges = [0.125, 0.250, 0.500, 1, 2, 4, 8, 16, 24, 32, 40, 48, 64]\n",
    "\n",
    "ambient_noise = []\n",
    "\n",
    "for r in ranges:\n",
    "    \n",
    "    g = kadlu.geophony(freq=200, depth=60, lat=43.9, lon=-58.9, propagation_range=r,\n",
    "         data_range=20, sl_func=kadlu.kewley_sl_func, seafloor=seafloor, **data_sources, **bounds)\n",
    "\n",
    "    ambient_noise.append(g)"
   ]
  },
  {
   "cell_type": "code",
   "execution_count": 15,
   "metadata": {},
   "outputs": [
    {
     "data": {
      "image/png": "[encoded data removed]",
      "text/plain": [
       "<Figure size 432x288 with 1 Axes>"
      ]
     },
     "metadata": {},
     "output_type": "display_data"
    }
   ],
   "source": [
    "# plot the sound intensity vs. propagation range\n",
    "spl=[]\n",
    "for a in ambient_noise:\n",
    "    spl.append(float(a['spl']))\n",
    "\n",
    "plt.plot(ranges, spl, '-o')\n",
    "plt.xlabel('Range (km)')\n",
    "plt.ylabel('Sound intensity (dB re 1$\\mu$Pa$^2$/Hz @ 1m)')\n",
    "plt.grid()\n",
    "plt.show()"
   ]
  },
  {
   "cell_type": "markdown",
   "metadata": {},
   "source": [
    "As indicated by the graph, for this particular acoustic environment, a range of ~20 km is required to get convergent results at 200 Hz."
   ]
  }
 ],
 "metadata": {
  "kernelspec": {
   "display_name": "Python 3",
   "language": "python",
   "name": "python3"
  },
  "language_info": {
   "codemirror_mode": {
    "name": "ipython",
    "version": 3
   },
   "file_extension": ".py",
   "mimetype": "text/x-python",
   "name": "python",
   "nbconvert_exporter": "python",
   "pygments_lexer": "ipython3",
   "version": "3.6.9"
  }
 },
 "nbformat": 4,
 "nbformat_minor": 4
}
