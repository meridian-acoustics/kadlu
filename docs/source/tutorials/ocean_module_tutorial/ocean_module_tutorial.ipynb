{
 "cells": [
  {
   "cell_type": "markdown",
   "metadata": {},
   "source": [
    "# Kadlu's Ocean Module"
   ]
  },
  {
   "cell_type": "markdown",
   "metadata": {},
   "source": [
    "The ocean module is an abstraction of Kadlu's loading and interpolation functions, which provides a unified interface to quickly load and interpolate many different environmental variables. In this tutorial, we will take a closer look at the key functionalities of the ocean module."
   ]
  },
  {
   "cell_type": "markdown",
   "metadata": {},
   "source": [
    "We begin by importing the necessary modules, functions, etc."
   ]
  },
  {
   "cell_type": "code",
   "execution_count": 1,
   "metadata": {},
   "outputs": [],
   "source": [
    "import kadlu\n",
    "\n",
    "import numpy as np\n",
    "from datetime import datetime"
   ]
  },
  {
   "cell_type": "markdown",
   "metadata": {},
   "source": [
    "The geographical and temporal boundaries are specified as python dictionary, to be passed to the plotting function later. In this example, we are concerned with a rectangular area in the Gulf of St. Lawrence, which extends from $47.8^o$N to $48.8^o$N and $-63.4^o$W to $-61.8^o$W, as shown on the map below. Note, also, that we are only loading data for the first 100 m of the water column (bottom=100, top=0) on the first 12 hours of January 9, 2015."
   ]
  },
  {
   "cell_type": "code",
   "execution_count": 2,
   "metadata": {},
   "outputs": [],
   "source": [
    "# ocean boundaries:\n",
    "bounds = dict(\n",
    "        start=datetime(2015, 1, 9), end=datetime(2015, 1, 9, 12),\n",
    "        south=47.8, north=48.8, \n",
    "        west=-63.4, east=-61.8, \n",
    "        top=0, bottom=100\n",
    "    )"
   ]
  },
  {
   "cell_type": "markdown",
   "metadata": {},
   "source": [
    "![Selected region](assets/map.png)"
   ]
  },
  {
   "cell_type": "markdown",
   "metadata": {},
   "source": [
    "### Initialization and querying"
   ]
  },
  {
   "cell_type": "markdown",
   "metadata": {},
   "source": [
    "The ocean module can be instatiated without specifying any data sources. This is the simplest way of instantiating the ocean module and result in an ocean with null data everywere. By default, GEBCO bathymetric data will be used"
   ]
  },
  {
   "cell_type": "code",
   "execution_count": 3,
   "metadata": {},
   "outputs": [
    {
     "name": "stderr",
     "output_type": "stream",
     "text": [
      "loading data from The GEBCO_2020 Grid - a continuous terrain model for oceans and land at 15 arc-second intervals\n",
      "GEBCO bathymetry  logged 230400 points in region\t{\"east\": -62.0, \"north\": 48.0, \"south\": 46.0, \"west\": -64.0}\n",
      "loading data from The GEBCO_2020 Grid - a continuous terrain model for oceans and land at 15 arc-second intervals\n",
      "GEBCO bathymetry  logged 230400 points in region\t{\"east\": -62.0, \"north\": 50.0, \"south\": 48.0, \"west\": -64.0}\n",
      "loading data from The GEBCO_2020 Grid - a continuous terrain model for oceans and land at 15 arc-second intervals\n",
      "GEBCO bathymetry  logged 230400 points in region\t{\"east\": -60.0, \"north\": 48.0, \"south\": 46.0, \"west\": -62.0}\n",
      "loading data from The GEBCO_2020 Grid - a continuous terrain model for oceans and land at 15 arc-second intervals\n",
      "GEBCO bathymetry  logged 230400 points in region\t{\"east\": -60.0, \"north\": 50.0, \"south\": 48.0, \"west\": -62.0}\n"
     ]
    }
   ],
   "source": [
    "o = kadlu.Ocean(**bounds) # instantiate ocean with null values"
   ]
  },
  {
   "cell_type": "markdown",
   "metadata": {},
   "source": [
    "The ocean module has a bunch of methods for querying various environmental data. For a full list, see the ocean module's documentation page. For example, bathymetric data can be queried with the `bathy` method as follows,"
   ]
  },
  {
   "cell_type": "code",
   "execution_count": 4,
   "metadata": {},
   "outputs": [
    {
     "data": {
      "text/plain": [
       "array([254.05733072,  60.83586037])"
      ]
     },
     "execution_count": 4,
     "metadata": {},
     "output_type": "execute_result"
    }
   ],
   "source": [
    "o.bathy(lat=[48.5, 48.1], lon=[-63, -62.5]) # query bathymetric interpolator for values at given coordinates"
   ]
  },
  {
   "cell_type": "markdown",
   "metadata": {},
   "source": [
    "To query using planar coordinates, use the `bathy_xy` method instead,"
   ]
  },
  {
   "cell_type": "code",
   "execution_count": 5,
   "metadata": {},
   "outputs": [
    {
     "data": {
      "text/plain": [
       "array([243.66568268, 344.35532699])"
      ]
     },
     "execution_count": 5,
     "metadata": {},
     "output_type": "execute_result"
    }
   ],
   "source": [
    "o.bathy_xy(x=[-2000, 3500], y=[10000, 15000]) # query bathymetric interpolator for values at given displacements"
   ]
  },
  {
   "cell_type": "markdown",
   "metadata": {},
   "source": [
    "Here, `x` and `y` are the horizontal (W-E) and vertical (S-N) displacements in meters, respectively, in a planar coordinate system centered at the mid-point of the geographical region under consideration."
   ]
  },
  {
   "cell_type": "markdown",
   "metadata": {},
   "source": [
    "### Automatic loading of data"
   ]
  },
  {
   "cell_type": "markdown",
   "metadata": {},
   "source": [
    "In order to use Kadlu's automated data loading functionalities, you simply have to specify one (or several) of the data sources listed in the source_map. For example,"
   ]
  },
  {
   "cell_type": "code",
   "execution_count": 7,
   "metadata": {
    "scrolled": true
   },
   "outputs": [
    {
     "data": {
      "text/plain": [
       "array([31.29669351, 31.44977994])"
      ]
     },
     "execution_count": 7,
     "metadata": {},
     "output_type": "execute_result"
    }
   ],
   "source": [
    "o = kadlu.Ocean(load_salinity='hycom', **bounds)               # instantiate interpolator with HYCOM salinity data\n",
    "o.salinity(lat=[48.5, 48.1], lon=[-64, -62.5], depth=[0, 10])  # query interpolator for values at given coordinates"
   ]
  },
  {
   "cell_type": "code",
   "execution_count": 8,
   "metadata": {},
   "outputs": [
    {
     "data": {
      "text/plain": [
       "array([0., 0.])"
      ]
     },
     "execution_count": 8,
     "metadata": {},
     "output_type": "execute_result"
    }
   ],
   "source": [
    "o.waveheight(lat=[48.5, 48.1], lon=[-64, -62.5]) # query waveheight interpolator: values remain null"
   ]
  },
  {
   "cell_type": "markdown",
   "metadata": {},
   "source": [
    "Kadlu can check for missing data and prepare interpolators for many variables at the same time"
   ]
  },
  {
   "cell_type": "code",
   "execution_count": 10,
   "metadata": {
    "scrolled": false
   },
   "outputs": [],
   "source": [
    "# source strings passed as load arguments tells the ocean module where to source the data\n",
    "sources = dict(\n",
    "        load_bathymetry='gebco',\n",
    "        load_temp='hycom',\n",
    "        load_salinity='hycom',\n",
    "        load_waveheight='era5',\n",
    "        load_waveperiod='era5',\n",
    "        load_wavedirection='era5',\n",
    "        load_wind_uv='era5'\n",
    "    )\n",
    "\n",
    "o = kadlu.Ocean(**sources, **bounds)"
   ]
  },
  {
   "cell_type": "markdown",
   "metadata": {},
   "source": [
    "Now we can query any of the loaded variable at any set of coordinates, e.g., wave height:"
   ]
  },
  {
   "cell_type": "code",
   "execution_count": 11,
   "metadata": {},
   "outputs": [
    {
     "data": {
      "text/plain": [
       "array([1.90879009, 2.17006324])"
      ]
     },
     "execution_count": 11,
     "metadata": {},
     "output_type": "execute_result"
    }
   ],
   "source": [
    "o.waveheight(lat=[48.5, 48.1], lon=[-64, -62.5])  # query waveheight interpolator"
   ]
  },
  {
   "cell_type": "markdown",
   "metadata": {},
   "source": [
    "### Manual data loading"
   ]
  },
  {
   "cell_type": "markdown",
   "metadata": {},
   "source": [
    "Kadlu also supports ocean interpolation using arbitrary environmental data. An ocean can be initialized by passing a float or array of floats to the load_variable keyword argument. Arrays must be ordered by [values, lat, lon] for 2D data, or [values, lat, lon, depth] for 3D data.\n",
    "\n",
    "When a float value is used, a uniform \"interpolation\" of that value will be returned for every coordinate location"
   ]
  },
  {
   "cell_type": "code",
   "execution_count": 12,
   "metadata": {},
   "outputs": [],
   "source": [
    "bathy_arr = np.array((\n",
    "        np.random.rand(100) * 500.,  # array of length 100 with random values in the range 0-500.\n",
    "        bounds['south'] + np.random.rand(100) * (bounds['north'] - bounds['south']),  # latitudes\n",
    "        bounds['west'] + np.random.rand(100) * (bounds['east'] - bounds['west'])  # longitudes\n",
    "    ))\n",
    "temp_float = 10\n",
    "salinity_float = 35\n",
    "\n",
    "o = kadlu.Ocean(load_bathymetry=bathy_arr, load_temp=temp_float, load_salinity=salinity_float, **bounds)"
   ]
  },
  {
   "cell_type": "code",
   "execution_count": 13,
   "metadata": {},
   "outputs": [
    {
     "name": "stdout",
     "output_type": "stream",
     "text": [
      "bathymetry:\t [280.22361683 449.07505919]\n",
      "temperature:\t [10. 10.]\n",
      "salinity:\t [35. 35.]\n"
     ]
    }
   ],
   "source": [
    "print('bathymetry:\\t',  o.bathy(   lat=[47.5, 48.1], lon=[-64, -62.5]))\n",
    "print('temperature:\\t', o.temp(    lat=[47.5, 48.1], lon=[-64, -62.5], depth=[0, 50]))\n",
    "print('salinity:\\t',    o.salinity(lat=[47.5, 48.1], lon=[-64, -62.5], depth=[0, 50]))"
   ]
  },
  {
   "cell_type": "markdown",
   "metadata": {},
   "source": [
    "for a list of possible strings accepted as input for the load_variable arguments, choose one of the sources listed in the source_map that supports that variable:"
   ]
  },
  {
   "cell_type": "code",
   "execution_count": 14,
   "metadata": {},
   "outputs": [
    {
     "name": "stdout",
     "output_type": "stream",
     "text": [
      "\n",
      "    CHS   (Canadian Hydrography Service)\n",
      "          bathymetry:       bathymetric data in Canada's waterways. metres, variable resolution \n",
      "\n",
      "    ERA5  (Global environmental dataset from Copernicus Climate Data Store)\n",
      "          wavedir:          mean wave direction, degrees\n",
      "          waveheight:       combined height of wind, waves, and swell. metres\n",
      "          waveperiod:       mean wave period, seconds\n",
      "          wind_uv:          wind speed computed as sqrt(u^2 + v^2) / 2, where u, v are direction vectors\n",
      "          wind_u:           wind speed coordinate U-vector, m/s\n",
      "          wind_v:           wind speed coordinate V-vector, m/s\n",
      "          precipitation:\n",
      "          precip_type:\n",
      "          snowfall:\n",
      "          flux_ocean:\n",
      "          flux_waves:\n",
      "          stress_ocean: \n",
      "\n",
      "    GEBCO (General Bathymetric Chart of the Oceans)\n",
      "          bathymetry:       global bathymetric and topographic data. metres below sea level \n",
      "\n",
      "    HYCOM (Hybrid Coordinate Ocean Model)\n",
      "          salinity:         g/kg salt in water\n",
      "          temp:             degrees celsius\n",
      "          water_uv:         ocean current computed as sqrt(u^2 + v^2) / 2, where u, v are direction vectors\n",
      "          water_u:          ocean current coordinate U-vector, m/s\n",
      "          water_v:          ocean current coordinate V-vector, m/s \n",
      "\n",
      "    WWIII (WaveWatch Ocean Model Gen 3)\n",
      "          wavedir:          primary wave direction, degrees\n",
      "          waveheight:       combined height of wind and waves, metres\n",
      "          waveperiod:       primary mean wave period, seconds\n",
      "          wind_uv:          wind speed computed as sqrt(u^2 + v^2) / 2, where u, v are direction vectors\n",
      "          wind_u:           wind speed coordinate U-vector, m/s\n",
      "          wind_v:           wind speed coordinate V-vector, m/s \n",
      "\n",
      "    NEMO  (3D zonal component fields from the SalishSeaCoast Model)\n",
      "          water_u:\n",
      "          water_v:\n",
      "          water_w:\n",
      "          salinity:\n",
      "          temp:\n",
      "          turbidity:\n",
      "          mesozooplankton:\n",
      "          microzooplankton:\n",
      "\n",
      "    \n"
     ]
    }
   ],
   "source": [
    "print(kadlu.source_map)"
   ]
  },
  {
   "cell_type": "code",
   "execution_count": null,
   "metadata": {},
   "outputs": [],
   "source": []
  }
 ],
 "metadata": {
  "kernelspec": {
   "display_name": "Python 3",
   "language": "python",
   "name": "python3"
  },
  "language_info": {
   "codemirror_mode": {
    "name": "ipython",
    "version": 3
   },
   "file_extension": ".py",
   "mimetype": "text/x-python",
   "name": "python",
   "nbconvert_exporter": "python",
   "pygments_lexer": "ipython3",
   "version": "3.6.9"
  }
 },
 "nbformat": 4,
 "nbformat_minor": 4
}
